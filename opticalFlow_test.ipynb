{
 "cells": [
  {
   "cell_type": "markdown",
   "metadata": {},
   "source": [
    "# Notebook to test and illustrate FAST algorithm"
   ]
  },
  {
   "cell_type": "code",
   "execution_count": 1,
   "metadata": {},
   "outputs": [],
   "source": [
    "%load_ext autoreload\n",
    "%autoreload 2"
   ]
  },
  {
   "cell_type": "markdown",
   "metadata": {},
   "source": [
    "### Tests on single image"
   ]
  },
  {
   "cell_type": "code",
   "execution_count": 2,
   "metadata": {},
   "outputs": [],
   "source": [
    "import cv2\n",
    "from matplotlib import pyplot as plt\n",
    "import numpy as np\n",
    "from PIL import Image\n",
    "\n",
    "import fast\n",
    "import opticalFlow"
   ]
  },
  {
   "cell_type": "markdown",
   "metadata": {},
   "source": [
    "### Test grid on video"
   ]
  },
  {
   "cell_type": "code",
   "execution_count": 4,
   "metadata": {},
   "outputs": [
    {
     "name": "stdout",
     "output_type": "stream",
     "text": [
      "IDX=70\r"
     ]
    }
   ],
   "source": [
    "cap = cv2.VideoCapture('imgs/person_dog.mp4')\n",
    "\n",
    "START_IDX = 60\n",
    "END_IDX = 70\n",
    "IDX = 0\n",
    "\n",
    "ret, frame = cap.read()\n",
    "result_gif = 'imgs/person_dog_kp_detector_grid_plus_adaptive_thresholds_2.gif'\n",
    "\n",
    "imgs = []\n",
    "skip = 3\n",
    "nb_keypoints = 1000\n",
    "cols = 4\n",
    "rows = 3\n",
    "\n",
    "while ret:\n",
    "    if IDX % skip != 0:\n",
    "        ret, frame = cap.read()\n",
    "        IDX += 1\n",
    "        continue\n",
    "    if START_IDX <= IDX < END_IDX:\n",
    "        gray = cv2.cvtColor(frame, cv2.COLOR_BGR2GRAY)\n",
    "        keypoints = fast.detect_with_adaptive_threshold_and_grid(\n",
    "            gray, nb_keypoints, N=12, step=5, epsilon=nb_keypoints*0.1,\n",
    "            percentage=0.10, init_thresholds=None, rows=rows, cols=cols)\n",
    "        img_with_kp = fast.draw(frame, keypoints)\n",
    "        imgs.append(Image.fromarray(cv2.cvtColor(img_with_kp, cv2.COLOR_BGR2RGB)))\n",
    "    elif IDX >= END_IDX:\n",
    "        break\n",
    "    ret, frame = cap.read()\n",
    "    IDX += 1\n",
    "    print(f'IDX={IDX}', end='\\r')\n",
    "\n",
    "imgs[0].save(result_gif, format='GIF',\n",
    "             append_images=imgs[1:],\n",
    "             save_all=True, loop=0)\n",
    "\n",
    "cap.release()\n",
    "cv2.destroyAllWindows()"
   ]
  },
  {
   "cell_type": "code",
   "execution_count": null,
   "metadata": {},
   "outputs": [],
   "source": []
  }
 ],
 "metadata": {
  "kernelspec": {
   "display_name": "Python 3",
   "language": "python",
   "name": "python3"
  },
  "language_info": {
   "codemirror_mode": {
    "name": "ipython",
    "version": 3
   },
   "file_extension": ".py",
   "mimetype": "text/x-python",
   "name": "python",
   "nbconvert_exporter": "python",
   "pygments_lexer": "ipython3",
   "version": "3.8.5"
  }
 },
 "nbformat": 4,
 "nbformat_minor": 4
}
